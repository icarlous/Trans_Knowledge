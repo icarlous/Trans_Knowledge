{
 "cells": [
  {
   "cell_type": "code",
   "execution_count": 1,
   "id": "initial_id",
   "metadata": {
    "collapsed": true,
    "ExecuteTime": {
     "end_time": "2024-02-29T18:30:42.950002Z",
     "start_time": "2024-02-29T18:30:32.311788Z"
    }
   },
   "outputs": [
    {
     "name": "stderr",
     "output_type": "stream",
     "text": [
      "No normalization for SPS. Feature removed!\n",
      "No normalization for AvgIpc. Feature removed!\n",
      "/Users/lyu/anaconda3/envs/transKnow/lib/python3.10/site-packages/transformers/utils/generic.py:260: UserWarning: torch.utils._pytree._register_pytree_node is deprecated. Please use torch.utils._pytree.register_pytree_node instead.\n",
      "  torch.utils._pytree._register_pytree_node(\n"
     ]
    }
   ],
   "source": [
    "import os\n",
    "\n",
    "import pandas as pd\n",
    "import deepchem as dc\n",
    "\n",
    "import pandas as pd\n",
    "\n",
    "from tqdm import tqdm\n",
    "import json\n",
    "import time\n",
    "import csv\n",
    "import os\n",
    "import random\n",
    "\n",
    "import numpy as np\n",
    "import matplotlib.pyplot as plt\n",
    "from mpl_toolkits.mplot3d import Axes3D\n",
    "\n",
    "from sklearn.linear_model import LinearRegression\n",
    "from sklearn import svm\n",
    "from sklearn.linear_model import SGDClassifier\n",
    "from sklearn.metrics import r2_score\n",
    "from sklearn.model_selection import train_test_split\n",
    "from sklearn.decomposition import PCA\n",
    "from sklearn.manifold import TSNE\n",
    "\n",
    "from scipy.spatial.distance import cosine\n",
    "from scipy.stats import pearsonr\n",
    "import statsmodels.api as sm\n"
   ]
  },
  {
   "cell_type": "code",
   "outputs": [
    {
     "data": {
      "text/plain": "              ChemicalName ChemicalID CasRN  \\\n0  06-Paris-LA-66 protocol    C046983   NaN   \n1                 10074-G5    C534883   NaN   \n2                 10074-G5    C534883   NaN   \n3                 10074-G5    C534883   NaN   \n4                 10074-G5    C534883   NaN   \n\n                                      DiseaseName   DiseaseID DirectEvidence  \\\n0  Precursor Cell Lymphoblastic Leukemia-Lymphoma     D054198    therapeutic   \n1                                  Adenocarcinoma     D000230            NaN   \n2                          Adenocarcinoma of Lung  D000077192            NaN   \n3                                        Alopecia     D000505            NaN   \n4                 Androgen-Insensitivity Syndrome     D013734            NaN   \n\n  InferenceGeneSymbol  InferenceScore        OmimIDs          PubMedIDs  \n0                 NaN             NaN            NaN            4519131  \n1                 MYC            4.07            NaN           26432044  \n2                 MYC            4.30            NaN  26656844|27602772  \n3                  AR            4.49            NaN           15902657  \n4                  AR            6.86  300068|312300    1303262|8281139  ",
      "text/html": "<div>\n<style scoped>\n    .dataframe tbody tr th:only-of-type {\n        vertical-align: middle;\n    }\n\n    .dataframe tbody tr th {\n        vertical-align: top;\n    }\n\n    .dataframe thead th {\n        text-align: right;\n    }\n</style>\n<table border=\"1\" class=\"dataframe\">\n  <thead>\n    <tr style=\"text-align: right;\">\n      <th></th>\n      <th>ChemicalName</th>\n      <th>ChemicalID</th>\n      <th>CasRN</th>\n      <th>DiseaseName</th>\n      <th>DiseaseID</th>\n      <th>DirectEvidence</th>\n      <th>InferenceGeneSymbol</th>\n      <th>InferenceScore</th>\n      <th>OmimIDs</th>\n      <th>PubMedIDs</th>\n    </tr>\n  </thead>\n  <tbody>\n    <tr>\n      <th>0</th>\n      <td>06-Paris-LA-66 protocol</td>\n      <td>C046983</td>\n      <td>NaN</td>\n      <td>Precursor Cell Lymphoblastic Leukemia-Lymphoma</td>\n      <td>D054198</td>\n      <td>therapeutic</td>\n      <td>NaN</td>\n      <td>NaN</td>\n      <td>NaN</td>\n      <td>4519131</td>\n    </tr>\n    <tr>\n      <th>1</th>\n      <td>10074-G5</td>\n      <td>C534883</td>\n      <td>NaN</td>\n      <td>Adenocarcinoma</td>\n      <td>D000230</td>\n      <td>NaN</td>\n      <td>MYC</td>\n      <td>4.07</td>\n      <td>NaN</td>\n      <td>26432044</td>\n    </tr>\n    <tr>\n      <th>2</th>\n      <td>10074-G5</td>\n      <td>C534883</td>\n      <td>NaN</td>\n      <td>Adenocarcinoma of Lung</td>\n      <td>D000077192</td>\n      <td>NaN</td>\n      <td>MYC</td>\n      <td>4.30</td>\n      <td>NaN</td>\n      <td>26656844|27602772</td>\n    </tr>\n    <tr>\n      <th>3</th>\n      <td>10074-G5</td>\n      <td>C534883</td>\n      <td>NaN</td>\n      <td>Alopecia</td>\n      <td>D000505</td>\n      <td>NaN</td>\n      <td>AR</td>\n      <td>4.49</td>\n      <td>NaN</td>\n      <td>15902657</td>\n    </tr>\n    <tr>\n      <th>4</th>\n      <td>10074-G5</td>\n      <td>C534883</td>\n      <td>NaN</td>\n      <td>Androgen-Insensitivity Syndrome</td>\n      <td>D013734</td>\n      <td>NaN</td>\n      <td>AR</td>\n      <td>6.86</td>\n      <td>300068|312300</td>\n      <td>1303262|8281139</td>\n    </tr>\n  </tbody>\n</table>\n</div>"
     },
     "execution_count": 89,
     "metadata": {},
     "output_type": "execute_result"
    }
   ],
   "source": [
    "chem_dis = pd.read_csv(\"./CTD/CTD_chemicals_diseases.csv\", comment='#', low_memory=False)\n",
    "chem_dis[\"DiseaseID\"] = chem_dis[\"DiseaseID\"].str.extract(r'(D\\d+)')\n",
    "chem_dis.head()"
   ],
   "metadata": {
    "collapsed": false,
    "ExecuteTime": {
     "end_time": "2024-02-29T04:41:40.327293Z",
     "start_time": "2024-02-29T04:41:25.847254Z"
    }
   },
   "id": "165177cca1ae3efc",
   "execution_count": 89
  },
  {
   "cell_type": "code",
   "outputs": [
    {
     "data": {
      "text/plain": "         pmid  year                                      abstract_text\n0         706  1976  Thirteen out of 18 young out-patients with sim...\n1        1803  1976  Mice were given a drug per os and 2 h later we...\n2        1959  1976  In a double-blind trial lasting 2 weeks, a new...\n3        2004  1976  Eight patients had cardiac manifestations that...\n4        2127  1976  Beta-Adrenergic stimulation with isoproterenol...\n...       ...   ...                                                ...\n9284  3418400  1988  Two episodes of massive bleeding from a suture...\n9285  3419247  1988  The anti-amnestic action of nicergoline was st...\n9286  3420160  1988  Protective influence of verapamil upon ouabain...\n9287  3420309  1988  An unusual case of acute muscular atrophy in a...\n9288  3420447  1988  Acute renal failure characteristic of acute tu...\n\n[9289 rows x 3 columns]",
      "text/html": "<div>\n<style scoped>\n    .dataframe tbody tr th:only-of-type {\n        vertical-align: middle;\n    }\n\n    .dataframe tbody tr th {\n        vertical-align: top;\n    }\n\n    .dataframe thead th {\n        text-align: right;\n    }\n</style>\n<table border=\"1\" class=\"dataframe\">\n  <thead>\n    <tr style=\"text-align: right;\">\n      <th></th>\n      <th>pmid</th>\n      <th>year</th>\n      <th>abstract_text</th>\n    </tr>\n  </thead>\n  <tbody>\n    <tr>\n      <th>0</th>\n      <td>706</td>\n      <td>1976</td>\n      <td>Thirteen out of 18 young out-patients with sim...</td>\n    </tr>\n    <tr>\n      <th>1</th>\n      <td>1803</td>\n      <td>1976</td>\n      <td>Mice were given a drug per os and 2 h later we...</td>\n    </tr>\n    <tr>\n      <th>2</th>\n      <td>1959</td>\n      <td>1976</td>\n      <td>In a double-blind trial lasting 2 weeks, a new...</td>\n    </tr>\n    <tr>\n      <th>3</th>\n      <td>2004</td>\n      <td>1976</td>\n      <td>Eight patients had cardiac manifestations that...</td>\n    </tr>\n    <tr>\n      <th>4</th>\n      <td>2127</td>\n      <td>1976</td>\n      <td>Beta-Adrenergic stimulation with isoproterenol...</td>\n    </tr>\n    <tr>\n      <th>...</th>\n      <td>...</td>\n      <td>...</td>\n      <td>...</td>\n    </tr>\n    <tr>\n      <th>9284</th>\n      <td>3418400</td>\n      <td>1988</td>\n      <td>Two episodes of massive bleeding from a suture...</td>\n    </tr>\n    <tr>\n      <th>9285</th>\n      <td>3419247</td>\n      <td>1988</td>\n      <td>The anti-amnestic action of nicergoline was st...</td>\n    </tr>\n    <tr>\n      <th>9286</th>\n      <td>3420160</td>\n      <td>1988</td>\n      <td>Protective influence of verapamil upon ouabain...</td>\n    </tr>\n    <tr>\n      <th>9287</th>\n      <td>3420309</td>\n      <td>1988</td>\n      <td>An unusual case of acute muscular atrophy in a...</td>\n    </tr>\n    <tr>\n      <th>9288</th>\n      <td>3420447</td>\n      <td>1988</td>\n      <td>Acute renal failure characteristic of acute tu...</td>\n    </tr>\n  </tbody>\n</table>\n<p>9289 rows × 3 columns</p>\n</div>"
     },
     "execution_count": 90,
     "metadata": {},
     "output_type": "execute_result"
    }
   ],
   "source": [
    "with open(\"./PubMed/pubmed_CTD_0.json\", 'r', encoding='utf') as f:\n",
    "    jsons = json.load(f)\n",
    "\n",
    "json_data = [x for x in jsons if x['abstract_text'] and x['year']]\n",
    "\n",
    "with open(\"./PubMed/pubmed_CTD_1.json\", 'r', encoding='utf') as f:\n",
    "    jsons = json.load(f)\n",
    "\n",
    "json_data += [x for x in jsons if x['abstract_text'] and x['year']]\n",
    "\n",
    "with open(\"./PubMed/pubmed_CTD_2.json\", 'r', encoding='utf') as f:\n",
    "    jsons = json.load(f)\n",
    "\n",
    "json_data += [x for x in jsons if x['abstract_text'] and x['year']]\n",
    "\n",
    "pmids = []\n",
    "years = []\n",
    "abstract_texts = []\n",
    "\n",
    "for js in json_data:\n",
    "    pmids.append(str(js['pmid']))\n",
    "    years.append(js['year'])\n",
    "    abstract_texts.append(js['abstract_text'])\n",
    "\n",
    "pmid_df = pd.DataFrame({\n",
    "    'pmid': pmids,\n",
    "    'year': years,\n",
    "    'abstract_text': abstract_texts\n",
    "})\n",
    "\n",
    "pmid_df"
   ],
   "metadata": {
    "collapsed": false,
    "ExecuteTime": {
     "end_time": "2024-02-29T04:41:57.442725Z",
     "start_time": "2024-02-29T04:41:57.376375Z"
    }
   },
   "id": "81f1e75679815660",
   "execution_count": 90
  },
  {
   "cell_type": "code",
   "outputs": [
    {
     "data": {
      "text/plain": "2220872"
     },
     "execution_count": 91,
     "metadata": {},
     "output_type": "execute_result"
    }
   ],
   "source": [
    "Chem_id = pd.read_csv(\"./Identifier/Chem_id.csv\")\n",
    "chem_dis = chem_dis[chem_dis['ChemicalName'].isin(Chem_id['iupac'])]\n",
    "len(chem_dis)"
   ],
   "metadata": {
    "collapsed": false,
    "ExecuteTime": {
     "end_time": "2024-02-29T04:42:19.397719Z",
     "start_time": "2024-02-29T04:42:18.997192Z"
    }
   },
   "id": "85fe001b71d8b696",
   "execution_count": 91
  },
  {
   "cell_type": "code",
   "outputs": [
    {
     "data": {
      "text/plain": "39544"
     },
     "execution_count": 92,
     "metadata": {},
     "output_type": "execute_result"
    }
   ],
   "source": [
    "pubMed_ids = []\n",
    "for s in chem_dis['PubMedIDs']:\n",
    "    t = str(s).split('|')\n",
    "    pubMed_ids += t\n",
    "pubMed_ids = list(set(pubMed_ids))\n",
    "len(pubMed_ids)"
   ],
   "metadata": {
    "collapsed": false,
    "ExecuteTime": {
     "end_time": "2024-02-29T04:42:31.541918Z",
     "start_time": "2024-02-29T04:42:31.017402Z"
    }
   },
   "id": "63c5b8e1664d88af",
   "execution_count": 92
  },
  {
   "cell_type": "code",
   "outputs": [
    {
     "data": {
      "text/plain": "3613"
     },
     "execution_count": 93,
     "metadata": {},
     "output_type": "execute_result"
    }
   ],
   "source": [
    "k_l = [x for x in pmid_df['pmid'] if x in pubMed_ids]\n",
    "len(k_l)"
   ],
   "metadata": {
    "collapsed": false,
    "ExecuteTime": {
     "end_time": "2024-02-29T04:42:45.807729Z",
     "start_time": "2024-02-29T04:42:43.463347Z"
    }
   },
   "id": "bb83d75a5451c9dc",
   "execution_count": 93
  },
  {
   "cell_type": "code",
   "outputs": [],
   "source": [
    "chems = []\n",
    "diseases = []\n",
    "pmids = []\n",
    "abstracts = []\n",
    "\n",
    "for i, row in chem_dis.iterrows():\n",
    "    for t in str(row['PubMedIDs']).split('|'):\n",
    "        if t in k_l:\n",
    "            chems.append(row['ChemicalName'])\n",
    "            diseases.append(row['DiseaseName'])\n",
    "            pmids.append(t)\n",
    "            abstracts.append(list(pmid_df[pmid_df['pmid'] == t]['abstract_text'])[0])\n",
    "\n",
    "df_relation = pd.DataFrame({\n",
    "    'Chemical': chems,\n",
    "    'Disease': diseases,\n",
    "    'Pmid': pmids,\n",
    "    'Text': abstracts\n",
    "})\n",
    "\n",
    "df_relation.to_csv(\"./Dual_sp_core.csv\", index=False, sep='$')"
   ],
   "metadata": {
    "collapsed": false,
    "ExecuteTime": {
     "end_time": "2024-02-29T04:44:57.028681Z",
     "start_time": "2024-02-29T04:43:12.734971Z"
    }
   },
   "id": "68028f8174f4ba48",
   "execution_count": 94
  },
  {
   "cell_type": "code",
   "outputs": [],
   "source": [
    "pmid_e_df = pmid_df[pmid_df['pmid'].isin(k_l)]\n",
    "pmid_df.to_csv(\"./Pmid_e.csv\", index=False)"
   ],
   "metadata": {
    "collapsed": false,
    "ExecuteTime": {
     "end_time": "2024-02-29T05:16:40.765870Z",
     "start_time": "2024-02-29T05:16:40.684680Z"
    }
   },
   "id": "774f8155be1bd0ba",
   "execution_count": 98
  },
  {
   "cell_type": "code",
   "outputs": [
    {
     "data": {
      "text/plain": "9289"
     },
     "execution_count": 99,
     "metadata": {},
     "output_type": "execute_result"
    }
   ],
   "source": [
    "len(pmid_df)"
   ],
   "metadata": {
    "collapsed": false,
    "ExecuteTime": {
     "end_time": "2024-02-29T05:16:41.279102Z",
     "start_time": "2024-02-29T05:16:41.276891Z"
    }
   },
   "id": "e76203fb97a26572",
   "execution_count": 99
  },
  {
   "cell_type": "code",
   "outputs": [
    {
     "data": {
      "text/plain": "61954"
     },
     "execution_count": 100,
     "metadata": {},
     "output_type": "execute_result"
    }
   ],
   "source": [
    "len(df_relation)"
   ],
   "metadata": {
    "collapsed": false,
    "ExecuteTime": {
     "end_time": "2024-02-29T05:16:43.580078Z",
     "start_time": "2024-02-29T05:16:43.577746Z"
    }
   },
   "id": "b8920845a2a9dea1",
   "execution_count": 100
  },
  {
   "cell_type": "code",
   "outputs": [],
   "source": [],
   "metadata": {
    "collapsed": false
   },
   "id": "7b338898f4a158c7"
  }
 ],
 "metadata": {
  "kernelspec": {
   "display_name": "Python 3",
   "language": "python",
   "name": "python3"
  },
  "language_info": {
   "codemirror_mode": {
    "name": "ipython",
    "version": 2
   },
   "file_extension": ".py",
   "mimetype": "text/x-python",
   "name": "python",
   "nbconvert_exporter": "python",
   "pygments_lexer": "ipython2",
   "version": "2.7.6"
  }
 },
 "nbformat": 4,
 "nbformat_minor": 5
}

{
 "cells": [
  {
   "cell_type": "code",
   "execution_count": 9,
   "id": "initial_id",
   "metadata": {
    "collapsed": true,
    "ExecuteTime": {
     "end_time": "2024-03-01T06:29:49.527915Z",
     "start_time": "2024-03-01T06:29:49.390436Z"
    }
   },
   "outputs": [],
   "source": [
    "import pandas as pd\n",
    "from gensim.models import Word2Vec\n",
    "\n",
    "import torch\n",
    "from torch_geometric.data import Data\n",
    "from torch_geometric.nn import Node2Vec\n",
    "\n",
    "from tqdm import tqdm"
   ]
  },
  {
   "cell_type": "code",
   "outputs": [
    {
     "data": {
      "text/plain": "'cpu'"
     },
     "execution_count": 4,
     "metadata": {},
     "output_type": "execute_result"
    }
   ],
   "source": [
    "'cuda' if torch.cuda.is_available() else 'cpu'"
   ],
   "metadata": {
    "collapsed": false,
    "ExecuteTime": {
     "end_time": "2024-03-01T06:23:30.073405Z",
     "start_time": "2024-03-01T06:23:30.068894Z"
    }
   },
   "id": "14ed9c0c93efdf40",
   "execution_count": 4
  },
  {
   "cell_type": "code",
   "outputs": [
    {
     "data": {
      "text/plain": "              ChemicalName ChemicalID CasRN  \\\n0  06-Paris-LA-66 protocol    C046983   NaN   \n1                 10074-G5    C534883   NaN   \n2                 10074-G5    C534883   NaN   \n3                 10074-G5    C534883   NaN   \n4                 10074-G5    C534883   NaN   \n\n                                      DiseaseName   DiseaseID DirectEvidence  \\\n0  Precursor Cell Lymphoblastic Leukemia-Lymphoma     D054198    therapeutic   \n1                                  Adenocarcinoma     D000230            NaN   \n2                          Adenocarcinoma of Lung  D000077192            NaN   \n3                                        Alopecia     D000505            NaN   \n4                 Androgen-Insensitivity Syndrome     D013734            NaN   \n\n  InferenceGeneSymbol  InferenceScore        OmimIDs          PubMedIDs  \n0                 NaN             NaN            NaN            4519131  \n1                 MYC            4.07            NaN           26432044  \n2                 MYC            4.30            NaN  26656844|27602772  \n3                  AR            4.49            NaN           15902657  \n4                  AR            6.86  300068|312300    1303262|8281139  ",
      "text/html": "<div>\n<style scoped>\n    .dataframe tbody tr th:only-of-type {\n        vertical-align: middle;\n    }\n\n    .dataframe tbody tr th {\n        vertical-align: top;\n    }\n\n    .dataframe thead th {\n        text-align: right;\n    }\n</style>\n<table border=\"1\" class=\"dataframe\">\n  <thead>\n    <tr style=\"text-align: right;\">\n      <th></th>\n      <th>ChemicalName</th>\n      <th>ChemicalID</th>\n      <th>CasRN</th>\n      <th>DiseaseName</th>\n      <th>DiseaseID</th>\n      <th>DirectEvidence</th>\n      <th>InferenceGeneSymbol</th>\n      <th>InferenceScore</th>\n      <th>OmimIDs</th>\n      <th>PubMedIDs</th>\n    </tr>\n  </thead>\n  <tbody>\n    <tr>\n      <th>0</th>\n      <td>06-Paris-LA-66 protocol</td>\n      <td>C046983</td>\n      <td>NaN</td>\n      <td>Precursor Cell Lymphoblastic Leukemia-Lymphoma</td>\n      <td>D054198</td>\n      <td>therapeutic</td>\n      <td>NaN</td>\n      <td>NaN</td>\n      <td>NaN</td>\n      <td>4519131</td>\n    </tr>\n    <tr>\n      <th>1</th>\n      <td>10074-G5</td>\n      <td>C534883</td>\n      <td>NaN</td>\n      <td>Adenocarcinoma</td>\n      <td>D000230</td>\n      <td>NaN</td>\n      <td>MYC</td>\n      <td>4.07</td>\n      <td>NaN</td>\n      <td>26432044</td>\n    </tr>\n    <tr>\n      <th>2</th>\n      <td>10074-G5</td>\n      <td>C534883</td>\n      <td>NaN</td>\n      <td>Adenocarcinoma of Lung</td>\n      <td>D000077192</td>\n      <td>NaN</td>\n      <td>MYC</td>\n      <td>4.30</td>\n      <td>NaN</td>\n      <td>26656844|27602772</td>\n    </tr>\n    <tr>\n      <th>3</th>\n      <td>10074-G5</td>\n      <td>C534883</td>\n      <td>NaN</td>\n      <td>Alopecia</td>\n      <td>D000505</td>\n      <td>NaN</td>\n      <td>AR</td>\n      <td>4.49</td>\n      <td>NaN</td>\n      <td>15902657</td>\n    </tr>\n    <tr>\n      <th>4</th>\n      <td>10074-G5</td>\n      <td>C534883</td>\n      <td>NaN</td>\n      <td>Androgen-Insensitivity Syndrome</td>\n      <td>D013734</td>\n      <td>NaN</td>\n      <td>AR</td>\n      <td>6.86</td>\n      <td>300068|312300</td>\n      <td>1303262|8281139</td>\n    </tr>\n  </tbody>\n</table>\n</div>"
     },
     "execution_count": 6,
     "metadata": {},
     "output_type": "execute_result"
    }
   ],
   "source": [
    "# Read the Chemical Disease Database\n",
    "chem_dis = pd.read_csv(\"./CTD/CTD_chemicals_diseases.csv\", comment='#', low_memory=False)\n",
    "chem_dis[\"DiseaseID\"] = chem_dis[\"DiseaseID\"].str.extract(r'(D\\d+)')\n",
    "chem_dis.head()"
   ],
   "metadata": {
    "collapsed": false,
    "ExecuteTime": {
     "end_time": "2024-03-01T06:24:59.352327Z",
     "start_time": "2024-03-01T06:24:48.985218Z"
    }
   },
   "id": "ec21d396a741f0d1",
   "execution_count": 6
  },
  {
   "cell_type": "code",
   "outputs": [
    {
     "name": "stderr",
     "output_type": "stream",
     "text": [
      "100%|██████████| 7277/7277 [21:38<00:00,  5.61it/s]"
     ]
    },
    {
     "name": "stdout",
     "output_type": "stream",
     "text": [
      "CPU times: user 21min 28s, sys: 4.54 s, total: 21min 33s\n",
      "Wall time: 21min 38s\n"
     ]
    },
    {
     "name": "stderr",
     "output_type": "stream",
     "text": [
      "\n"
     ]
    }
   ],
   "source": [
    "%%time\n",
    "disease_l = chem_dis.DiseaseName.unique().tolist()\n",
    "chem_l_s=[]\n",
    "for i in tqdm(disease_l):\n",
    "    chem_l_s.append(chem_dis[chem_dis['DiseaseName']==i]['ChemicalName'].tolist())"
   ],
   "metadata": {
    "collapsed": false,
    "ExecuteTime": {
     "end_time": "2024-03-01T07:22:09.079794Z",
     "start_time": "2024-03-01T07:00:30.601455Z"
    }
   },
   "id": "883601640f05dee3",
   "execution_count": 22
  },
  {
   "cell_type": "code",
   "outputs": [
    {
     "data": {
      "text/plain": "(53830266, 87878910)"
     },
     "execution_count": 23,
     "metadata": {},
     "output_type": "execute_result"
    }
   ],
   "source": [
    "model = Word2Vec(vector_size=50, window=5, min_count=1, workers=4)\n",
    "model.build_vocab(chem_l_s)\n",
    "model.train(chem_l_s, total_examples=len(chem_l_s), epochs=10)"
   ],
   "metadata": {
    "collapsed": false,
    "ExecuteTime": {
     "end_time": "2024-03-01T07:22:17.402208Z",
     "start_time": "2024-03-01T07:22:09.081586Z"
    }
   },
   "id": "c6b7d19144336ae7",
   "execution_count": 23
  },
  {
   "cell_type": "code",
   "outputs": [
    {
     "ename": "RuntimeError",
     "evalue": "you must first build vocabulary before training the model",
     "output_type": "error",
     "traceback": [
      "\u001B[0;31m---------------------------------------------------------------------------\u001B[0m",
      "\u001B[0;31mRuntimeError\u001B[0m                              Traceback (most recent call last)",
      "Cell \u001B[0;32mIn[19], line 1\u001B[0m\n\u001B[0;32m----> 1\u001B[0m \u001B[43mmodel\u001B[49m\u001B[38;5;241;43m.\u001B[39;49m\u001B[43mtrain\u001B[49m\u001B[43m(\u001B[49m\u001B[43mchem_l_s\u001B[49m\u001B[43m,\u001B[49m\u001B[43m \u001B[49m\u001B[43mtotal_examples\u001B[49m\u001B[38;5;241;43m=\u001B[39;49m\u001B[38;5;28;43mlen\u001B[39;49m\u001B[43m(\u001B[49m\u001B[43mchem_l_s\u001B[49m\u001B[43m)\u001B[49m\u001B[43m,\u001B[49m\u001B[43m \u001B[49m\u001B[43mepochs\u001B[49m\u001B[38;5;241;43m=\u001B[39;49m\u001B[38;5;241;43m10\u001B[39;49m\u001B[43m)\u001B[49m\n",
      "File \u001B[0;32m~/anaconda3/envs/transKnow/lib/python3.10/site-packages/gensim/models/word2vec.py:1045\u001B[0m, in \u001B[0;36mWord2Vec.train\u001B[0;34m(self, corpus_iterable, corpus_file, total_examples, total_words, epochs, start_alpha, end_alpha, word_count, queue_factor, report_delay, compute_loss, callbacks, **kwargs)\u001B[0m\n\u001B[1;32m   1042\u001B[0m \u001B[38;5;28mself\u001B[39m\u001B[38;5;241m.\u001B[39mmin_alpha \u001B[38;5;241m=\u001B[39m end_alpha \u001B[38;5;129;01mor\u001B[39;00m \u001B[38;5;28mself\u001B[39m\u001B[38;5;241m.\u001B[39mmin_alpha\n\u001B[1;32m   1043\u001B[0m \u001B[38;5;28mself\u001B[39m\u001B[38;5;241m.\u001B[39mepochs \u001B[38;5;241m=\u001B[39m epochs\n\u001B[0;32m-> 1045\u001B[0m \u001B[38;5;28;43mself\u001B[39;49m\u001B[38;5;241;43m.\u001B[39;49m\u001B[43m_check_training_sanity\u001B[49m\u001B[43m(\u001B[49m\u001B[43mepochs\u001B[49m\u001B[38;5;241;43m=\u001B[39;49m\u001B[43mepochs\u001B[49m\u001B[43m,\u001B[49m\u001B[43m \u001B[49m\u001B[43mtotal_examples\u001B[49m\u001B[38;5;241;43m=\u001B[39;49m\u001B[43mtotal_examples\u001B[49m\u001B[43m,\u001B[49m\u001B[43m \u001B[49m\u001B[43mtotal_words\u001B[49m\u001B[38;5;241;43m=\u001B[39;49m\u001B[43mtotal_words\u001B[49m\u001B[43m)\u001B[49m\n\u001B[1;32m   1046\u001B[0m \u001B[38;5;28mself\u001B[39m\u001B[38;5;241m.\u001B[39m_check_corpus_sanity(corpus_iterable\u001B[38;5;241m=\u001B[39mcorpus_iterable, corpus_file\u001B[38;5;241m=\u001B[39mcorpus_file, passes\u001B[38;5;241m=\u001B[39mepochs)\n\u001B[1;32m   1048\u001B[0m \u001B[38;5;28mself\u001B[39m\u001B[38;5;241m.\u001B[39madd_lifecycle_event(\n\u001B[1;32m   1049\u001B[0m     \u001B[38;5;124m\"\u001B[39m\u001B[38;5;124mtrain\u001B[39m\u001B[38;5;124m\"\u001B[39m,\n\u001B[1;32m   1050\u001B[0m     msg\u001B[38;5;241m=\u001B[39m(\n\u001B[0;32m   (...)\u001B[0m\n\u001B[1;32m   1054\u001B[0m     ),\n\u001B[1;32m   1055\u001B[0m )\n",
      "File \u001B[0;32m~/anaconda3/envs/transKnow/lib/python3.10/site-packages/gensim/models/word2vec.py:1543\u001B[0m, in \u001B[0;36mWord2Vec._check_training_sanity\u001B[0;34m(self, epochs, total_examples, total_words, **kwargs)\u001B[0m\n\u001B[1;32m   1540\u001B[0m     logger\u001B[38;5;241m.\u001B[39mwarning(\u001B[38;5;124m\"\u001B[39m\u001B[38;5;124mEffective \u001B[39m\u001B[38;5;124m'\u001B[39m\u001B[38;5;124malpha\u001B[39m\u001B[38;5;124m'\u001B[39m\u001B[38;5;124m higher than previous training cycles\u001B[39m\u001B[38;5;124m\"\u001B[39m)\n\u001B[1;32m   1542\u001B[0m \u001B[38;5;28;01mif\u001B[39;00m \u001B[38;5;129;01mnot\u001B[39;00m \u001B[38;5;28mself\u001B[39m\u001B[38;5;241m.\u001B[39mwv\u001B[38;5;241m.\u001B[39mkey_to_index:  \u001B[38;5;66;03m# should be set by `build_vocab`\u001B[39;00m\n\u001B[0;32m-> 1543\u001B[0m     \u001B[38;5;28;01mraise\u001B[39;00m \u001B[38;5;167;01mRuntimeError\u001B[39;00m(\u001B[38;5;124m\"\u001B[39m\u001B[38;5;124myou must first build vocabulary before training the model\u001B[39m\u001B[38;5;124m\"\u001B[39m)\n\u001B[1;32m   1544\u001B[0m \u001B[38;5;28;01mif\u001B[39;00m \u001B[38;5;129;01mnot\u001B[39;00m \u001B[38;5;28mlen\u001B[39m(\u001B[38;5;28mself\u001B[39m\u001B[38;5;241m.\u001B[39mwv\u001B[38;5;241m.\u001B[39mvectors):\n\u001B[1;32m   1545\u001B[0m     \u001B[38;5;28;01mraise\u001B[39;00m \u001B[38;5;167;01mRuntimeError\u001B[39;00m(\u001B[38;5;124m\"\u001B[39m\u001B[38;5;124myou must initialize vectors before training the model\u001B[39m\u001B[38;5;124m\"\u001B[39m)\n",
      "\u001B[0;31mRuntimeError\u001B[0m: you must first build vocabulary before training the model"
     ]
    }
   ],
   "source": [],
   "metadata": {
    "collapsed": false,
    "ExecuteTime": {
     "end_time": "2024-03-01T06:59:56.988987Z",
     "start_time": "2024-03-01T06:59:56.960323Z"
    }
   },
   "id": "68da4a68910762bd",
   "execution_count": 19
  },
  {
   "cell_type": "code",
   "outputs": [],
   "source": [],
   "metadata": {
    "collapsed": false
   },
   "id": "cb0b20ea02555f9d"
  }
 ],
 "metadata": {
  "kernelspec": {
   "display_name": "Python 3",
   "language": "python",
   "name": "python3"
  },
  "language_info": {
   "codemirror_mode": {
    "name": "ipython",
    "version": 2
   },
   "file_extension": ".py",
   "mimetype": "text/x-python",
   "name": "python",
   "nbconvert_exporter": "python",
   "pygments_lexer": "ipython2",
   "version": "2.7.6"
  }
 },
 "nbformat": 4,
 "nbformat_minor": 5
}

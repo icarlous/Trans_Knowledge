{
 "cells": [
  {
   "cell_type": "code",
   "execution_count": 27,
   "id": "initial_id",
   "metadata": {
    "collapsed": true,
    "ExecuteTime": {
     "end_time": "2024-03-01T17:44:15.961852Z",
     "start_time": "2024-03-01T17:44:15.958067Z"
    }
   },
   "outputs": [],
   "source": [
    "import pandas as pd\n",
    "from gensim.models import Word2Vec\n",
    "import matplotlib.pyplot as plt\n",
    "import numpy as np\n",
    "\n",
    "import torch\n",
    "from torch_geometric.data import Data\n",
    "from torch_geometric.nn import Node2Vec\n",
    "\n",
    "from tqdm import tqdm"
   ]
  },
  {
   "cell_type": "code",
   "outputs": [
    {
     "data": {
      "text/plain": "'cpu'"
     },
     "execution_count": 4,
     "metadata": {},
     "output_type": "execute_result"
    }
   ],
   "source": [
    "'cuda' if torch.cuda.is_available() else 'cpu'"
   ],
   "metadata": {
    "collapsed": false,
    "ExecuteTime": {
     "end_time": "2024-03-01T06:23:30.073405Z",
     "start_time": "2024-03-01T06:23:30.068894Z"
    }
   },
   "id": "14ed9c0c93efdf40",
   "execution_count": 4
  },
  {
   "cell_type": "code",
   "outputs": [
    {
     "data": {
      "text/plain": "              ChemicalName ChemicalID CasRN  \\\n0  06-Paris-LA-66 protocol    C046983   NaN   \n1                 10074-G5    C534883   NaN   \n2                 10074-G5    C534883   NaN   \n3                 10074-G5    C534883   NaN   \n4                 10074-G5    C534883   NaN   \n\n                                      DiseaseName   DiseaseID DirectEvidence  \\\n0  Precursor Cell Lymphoblastic Leukemia-Lymphoma     D054198    therapeutic   \n1                                  Adenocarcinoma     D000230            NaN   \n2                          Adenocarcinoma of Lung  D000077192            NaN   \n3                                        Alopecia     D000505            NaN   \n4                 Androgen-Insensitivity Syndrome     D013734            NaN   \n\n  InferenceGeneSymbol  InferenceScore        OmimIDs          PubMedIDs  \n0                 NaN             NaN            NaN            4519131  \n1                 MYC            4.07            NaN           26432044  \n2                 MYC            4.30            NaN  26656844|27602772  \n3                  AR            4.49            NaN           15902657  \n4                  AR            6.86  300068|312300    1303262|8281139  ",
      "text/html": "<div>\n<style scoped>\n    .dataframe tbody tr th:only-of-type {\n        vertical-align: middle;\n    }\n\n    .dataframe tbody tr th {\n        vertical-align: top;\n    }\n\n    .dataframe thead th {\n        text-align: right;\n    }\n</style>\n<table border=\"1\" class=\"dataframe\">\n  <thead>\n    <tr style=\"text-align: right;\">\n      <th></th>\n      <th>ChemicalName</th>\n      <th>ChemicalID</th>\n      <th>CasRN</th>\n      <th>DiseaseName</th>\n      <th>DiseaseID</th>\n      <th>DirectEvidence</th>\n      <th>InferenceGeneSymbol</th>\n      <th>InferenceScore</th>\n      <th>OmimIDs</th>\n      <th>PubMedIDs</th>\n    </tr>\n  </thead>\n  <tbody>\n    <tr>\n      <th>0</th>\n      <td>06-Paris-LA-66 protocol</td>\n      <td>C046983</td>\n      <td>NaN</td>\n      <td>Precursor Cell Lymphoblastic Leukemia-Lymphoma</td>\n      <td>D054198</td>\n      <td>therapeutic</td>\n      <td>NaN</td>\n      <td>NaN</td>\n      <td>NaN</td>\n      <td>4519131</td>\n    </tr>\n    <tr>\n      <th>1</th>\n      <td>10074-G5</td>\n      <td>C534883</td>\n      <td>NaN</td>\n      <td>Adenocarcinoma</td>\n      <td>D000230</td>\n      <td>NaN</td>\n      <td>MYC</td>\n      <td>4.07</td>\n      <td>NaN</td>\n      <td>26432044</td>\n    </tr>\n    <tr>\n      <th>2</th>\n      <td>10074-G5</td>\n      <td>C534883</td>\n      <td>NaN</td>\n      <td>Adenocarcinoma of Lung</td>\n      <td>D000077192</td>\n      <td>NaN</td>\n      <td>MYC</td>\n      <td>4.30</td>\n      <td>NaN</td>\n      <td>26656844|27602772</td>\n    </tr>\n    <tr>\n      <th>3</th>\n      <td>10074-G5</td>\n      <td>C534883</td>\n      <td>NaN</td>\n      <td>Alopecia</td>\n      <td>D000505</td>\n      <td>NaN</td>\n      <td>AR</td>\n      <td>4.49</td>\n      <td>NaN</td>\n      <td>15902657</td>\n    </tr>\n    <tr>\n      <th>4</th>\n      <td>10074-G5</td>\n      <td>C534883</td>\n      <td>NaN</td>\n      <td>Androgen-Insensitivity Syndrome</td>\n      <td>D013734</td>\n      <td>NaN</td>\n      <td>AR</td>\n      <td>6.86</td>\n      <td>300068|312300</td>\n      <td>1303262|8281139</td>\n    </tr>\n  </tbody>\n</table>\n</div>"
     },
     "execution_count": 6,
     "metadata": {},
     "output_type": "execute_result"
    }
   ],
   "source": [
    "# Read the Chemical Disease Database\n",
    "chem_dis = pd.read_csv(\"./CTD/CTD_chemicals_diseases.csv\", comment='#', low_memory=False)\n",
    "chem_dis[\"DiseaseID\"] = chem_dis[\"DiseaseID\"].str.extract(r'(D\\d+)')\n",
    "chem_dis.head()"
   ],
   "metadata": {
    "collapsed": false,
    "ExecuteTime": {
     "end_time": "2024-03-01T06:24:59.352327Z",
     "start_time": "2024-03-01T06:24:48.985218Z"
    }
   },
   "id": "ec21d396a741f0d1",
   "execution_count": 6
  },
  {
   "cell_type": "code",
   "outputs": [
    {
     "name": "stderr",
     "output_type": "stream",
     "text": [
      "100%|██████████| 7277/7277 [21:38<00:00,  5.61it/s]"
     ]
    },
    {
     "name": "stdout",
     "output_type": "stream",
     "text": [
      "CPU times: user 21min 28s, sys: 4.54 s, total: 21min 33s\n",
      "Wall time: 21min 38s\n"
     ]
    },
    {
     "name": "stderr",
     "output_type": "stream",
     "text": [
      "\n"
     ]
    }
   ],
   "source": [
    "%%time\n",
    "disease_l = chem_dis.DiseaseName.unique().tolist()\n",
    "chem_l_s=[]\n",
    "for i in tqdm(disease_l):\n",
    "    chem_l_s.append(chem_dis[chem_dis['DiseaseName']==i]['ChemicalName'].tolist())"
   ],
   "metadata": {
    "collapsed": false,
    "ExecuteTime": {
     "end_time": "2024-03-01T07:22:09.079794Z",
     "start_time": "2024-03-01T07:00:30.601455Z"
    }
   },
   "id": "883601640f05dee3",
   "execution_count": 22
  },
  {
   "cell_type": "code",
   "outputs": [
    {
     "name": "stderr",
     "output_type": "stream",
     "text": [
      "100%|██████████| 17337/17337 [50:21<00:00,  5.74it/s] "
     ]
    },
    {
     "name": "stdout",
     "output_type": "stream",
     "text": [
      "CPU times: user 50min 1s, sys: 8.22 s, total: 50min 9s\n",
      "Wall time: 50min 21s\n"
     ]
    },
    {
     "name": "stderr",
     "output_type": "stream",
     "text": [
      "\n"
     ]
    }
   ],
   "source": [
    "%%time\n",
    "chemical_l = chem_dis.ChemicalName.unique().tolist()\n",
    "disease_seq=[]\n",
    "for i in tqdm(chemical_l):\n",
    "    disease_seq.append(chem_dis[chem_dis['ChemicalName']==i]['DiseaseName'].tolist())"
   ],
   "metadata": {
    "collapsed": false,
    "ExecuteTime": {
     "end_time": "2024-03-01T18:36:14.416922Z",
     "start_time": "2024-03-01T17:45:52.781636Z"
    }
   },
   "id": "c389375921cf076c",
   "execution_count": 30
  },
  {
   "cell_type": "code",
   "outputs": [
    {
     "data": {
      "text/plain": "(53830266, 87878910)"
     },
     "execution_count": 23,
     "metadata": {},
     "output_type": "execute_result"
    }
   ],
   "source": [
    "model = Word2Vec(vector_size=50, window=5, min_count=1, workers=4)\n",
    "model.build_vocab(chem_l_s)\n",
    "model.train(chem_l_s, total_examples=len(chem_l_s), epochs=10)"
   ],
   "metadata": {
    "collapsed": false,
    "ExecuteTime": {
     "end_time": "2024-03-01T07:22:17.402208Z",
     "start_time": "2024-03-01T07:22:09.081586Z"
    }
   },
   "id": "c6b7d19144336ae7",
   "execution_count": 23
  },
  {
   "cell_type": "code",
   "outputs": [
    {
     "data": {
      "text/plain": "(array([2420., 1434., 2140., 2583., 3053., 2535., 1865.,  874.,  334.,\n          99.]),\n array([0.        , 0.45151185, 0.90302369, 1.35453554, 1.80604739,\n        2.25755923, 2.70907108, 3.16058293, 3.61209477, 4.06360662,\n        4.51511847]),\n <BarContainer object of 10 artists>)"
     },
     "execution_count": 31,
     "metadata": {},
     "output_type": "execute_result"
    },
    {
     "data": {
      "text/plain": "<Figure size 640x480 with 1 Axes>",
      "image/png": "[encoded data removed]"
     },
     "metadata": {},
     "output_type": "display_data"
    }
   ],
   "source": [
    "plt.hist([np.log10(len(x)) for x in disease_seq])"
   ],
   "metadata": {
    "collapsed": false,
    "ExecuteTime": {
     "end_time": "2024-03-01T18:36:14.537309Z",
     "start_time": "2024-03-01T18:36:14.418345Z"
    }
   },
   "id": "68da4a68910762bd",
   "execution_count": 31
  },
  {
   "cell_type": "code",
   "outputs": [],
   "source": [],
   "metadata": {
    "collapsed": false
   },
   "id": "cb0b20ea02555f9d"
  }
 ],
 "metadata": {
  "kernelspec": {
   "display_name": "Python 3",
   "language": "python",
   "name": "python3"
  },
  "language_info": {
   "codemirror_mode": {
    "name": "ipython",
    "version": 2
   },
   "file_extension": ".py",
   "mimetype": "text/x-python",
   "name": "python",
   "nbconvert_exporter": "python",
   "pygments_lexer": "ipython2",
   "version": "2.7.6"
  }
 },
 "nbformat": 4,
 "nbformat_minor": 5
}
